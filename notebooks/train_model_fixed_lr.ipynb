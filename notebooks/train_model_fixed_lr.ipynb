{
 "cells": [
  {
   "cell_type": "code",
   "execution_count": 1,
   "metadata": {},
   "outputs": [],
   "source": [
    "import torch\n",
    "import torch.nn as nn\n",
    "import torch.optim as optim\n",
    "import torch.nn.functional as F\n",
    "from torch.utils.data import DataLoader\n",
    "from bird_song_dataset import BirdSongDataset, DataPaths, DeviceManager\n",
    "from torch.utils.tensorboard import SummaryWriter\n",
    "import os"
   ]
  },
  {
   "cell_type": "code",
   "execution_count": 2,
   "metadata": {},
   "outputs": [],
   "source": [
    "class SimpleCNN(nn.Module):\n",
    "    \"\"\"\n",
    "    CNN model for image classification\n",
    "\n",
    "    This network consists of two convolutional layers followed by two fully connected layers\n",
    "    The network uses ReLU activation functions for non-linearity and max pooling for down-sampling\n",
    "\n",
    "    Nueral net architecture:\n",
    "        - conv1:\n",
    "            The first convolutional layer holds 16 filters, a kernel size of 3, stride of 1, and padding of 1\n",
    "        - conv2: \n",
    "            The second convolutional layer holds 32 filters, a kernel size of 3, stride of 1, and padding of 1\n",
    "        - fc1:\n",
    "            The first fully connected layer that maps from the flattened output of the last pooling layer to 512 features\n",
    "        - fc2:\n",
    "            The second fully connected layer that maps the 512 features to the number of classes\n",
    "\n",
    "    The forward method defines the data flow through the network, applying layers sequentially with ReLU activation functions and pooling operations\n",
    "    \"\"\"\n",
    "\n",
    "    def __init__(self, num_classes=5):\n",
    "        super(SimpleCNN, self).__init__()\n",
    "        # First convolutional layer with 16 filters\n",
    "        self.conv1 = nn.Conv2d(1, 16, kernel_size=3, stride=1, padding=1)\n",
    "\n",
    "        # Second convolutional layer with 32 filters\n",
    "        self.conv2 = nn.Conv2d(16, 32, kernel_size=3, stride=1, padding=1)\n",
    "\n",
    "        # First fully connected layer, transforming the feature map from convolutional layers into a 512-dimensional vector\n",
    "        self.fc1 = nn.Linear(32768, 512)\n",
    "\n",
    "        # Final fully connected layer that outputs probability distribution across the classes\n",
    "        self.fc2 = nn.Linear(512, num_classes)\n",
    "\n",
    "    def forward(self, x):\n",
    "        # Apply the first convolutional layer followed by ReLU activation and max pooling\n",
    "        x = F.relu(self.conv1(x))\n",
    "        x = F.max_pool2d(x, 2)\n",
    "\n",
    "        # Apply the second convolutional layer followed by ReLU activation and another max pooling\n",
    "        x = F.relu(self.conv2(x))\n",
    "        x = F.max_pool2d(x, 2)\n",
    "\n",
    "        # Flatten the output from the convolutional layers to prepare for the fully connected layer\n",
    "        x = torch.flatten(x, 1)\n",
    "\n",
    "        # Apply the first fully connected layer with ReLU activation\n",
    "        x = F.relu(self.fc1(x))\n",
    "\n",
    "        # Output layer that maps to the number of classes\n",
    "        x = self.fc2(x)\n",
    "        \n",
    "        return x"
   ]
  },
  {
   "cell_type": "code",
   "execution_count": 3,
   "metadata": {},
   "outputs": [
    {
     "name": "stdout",
     "output_type": "stream",
     "text": [
      "dict_keys(['csv_file_path', 'wav_files_dir', 'models_dir', 'results_dir', 'runs_dir'])\n"
     ]
    }
   ],
   "source": [
    "# Get dynamic paths\n",
    "data_paths = DataPaths()\n",
    "paths = data_paths.get_paths()\n",
    "print(paths.keys())"
   ]
  },
  {
   "cell_type": "code",
   "execution_count": 4,
   "metadata": {},
   "outputs": [
    {
     "name": "stdout",
     "output_type": "stream",
     "text": [
      "Dataset size: 5422\n"
     ]
    }
   ],
   "source": [
    "# Instantiate dataset class\n",
    "bird_dataset = BirdSongDataset(csv_file=paths['csv_file_path'], root_dir=paths['wav_files_dir'])\n",
    "print(f\"Dataset size: {len(bird_dataset)}\")"
   ]
  },
  {
   "cell_type": "code",
   "execution_count": 5,
   "metadata": {},
   "outputs": [
    {
     "name": "stdout",
     "output_type": "stream",
     "text": [
      "Data split sizes for train, val, and test: (3795, 813, 814)\n"
     ]
    }
   ],
   "source": [
    "# Data split sizes for train, val, and test\n",
    "train_size = int(0.7 * len(bird_dataset))\n",
    "val_size = int(0.15 * len(bird_dataset))\n",
    "test_size = len(bird_dataset) - train_size - val_size\n",
    "\n",
    "print(f'Data split sizes for train, val, and test: {train_size, val_size, test_size}')"
   ]
  },
  {
   "cell_type": "code",
   "execution_count": 6,
   "metadata": {},
   "outputs": [
    {
     "name": "stdout",
     "output_type": "stream",
     "text": [
      "Using MPS (Apple Silicon GPU)\n"
     ]
    }
   ],
   "source": [
    "# Random split\n",
    "train_dataset, val_dataset, test_dataset = torch.utils.data.random_split(bird_dataset, [train_size, val_size, test_size])\n",
    "\n",
    "train_loader = DataLoader(train_dataset, batch_size=64, shuffle=True)\n",
    "val_loader = DataLoader(val_dataset, batch_size=64, shuffle=False)\n",
    "test_loader = DataLoader(test_dataset, batch_size=64, shuffle=False)\n",
    "\n",
    "# Determine accelerator device\n",
    "device_manager = DeviceManager()\n",
    "device = device_manager.device"
   ]
  },
  {
   "cell_type": "code",
   "execution_count": 7,
   "metadata": {},
   "outputs": [
    {
     "name": "stdout",
     "output_type": "stream",
     "text": [
      "Epoch 1/10, Training Loss: 29.40092813372612, Validation Loss: 1.0550424869243915\n",
      "---------------------------------------------------------------------------\n",
      "Epoch 2/10, Training Loss: 0.8446318248907725, Validation Loss: 0.8775509870969332\n",
      "---------------------------------------------------------------------------\n",
      "Epoch 3/10, Training Loss: 0.5641969790061315, Validation Loss: 0.8226675391197205\n",
      "---------------------------------------------------------------------------\n",
      "Epoch 4/10, Training Loss: 0.3868511237204075, Validation Loss: 0.8405184975037208\n",
      "---------------------------------------------------------------------------\n",
      "Epoch 5/10, Training Loss: 0.2856514650086562, Validation Loss: 0.8824616991556608\n",
      "---------------------------------------------------------------------------\n",
      "Epoch 6/10, Training Loss: 0.22764844683309396, Validation Loss: 0.8985623854857224\n",
      "---------------------------------------------------------------------------\n",
      "Epoch 7/10, Training Loss: 0.14086748684446018, Validation Loss: 0.9348215598326463\n",
      "---------------------------------------------------------------------------\n",
      "Epoch 8/10, Training Loss: 0.07668051312988003, Validation Loss: 1.011623501777649\n",
      "---------------------------------------------------------------------------\n",
      "Epoch 9/10, Training Loss: 0.06212049775446455, Validation Loss: 1.0507894937808697\n",
      "---------------------------------------------------------------------------\n",
      "Epoch 10/10, Training Loss: 0.03388605825603008, Validation Loss: 1.2411040709568903\n",
      "---------------------------------------------------------------------------\n"
     ]
    }
   ],
   "source": [
    "# Define the model, loss function, and optimizer\n",
    "model = SimpleCNN(num_classes=5).to(device)\n",
    "criterion = nn.CrossEntropyLoss()\n",
    "optimizer = optim.Adam(model.parameters(), lr=0.001)\n",
    "\n",
    "# Initialize TensorBoard writer for logging\n",
    "writer = SummaryWriter(f\"{paths['runs_dir']}/bird_song_experiment_fixed_lr\")\n",
    "\n",
    "# Initialize the best validation loss to a high value\n",
    "best_val_loss = float('inf')\n",
    "\n",
    "# Set number of epochs for training\n",
    "num_epochs = 10\n",
    "for epoch in range(num_epochs):\n",
    "    # Set model to training mode and initialize running loss\n",
    "    model.train()\n",
    "    running_loss = 0.0\n",
    "\n",
    "    # Loop over batches in the training dataset\n",
    "    for batch in train_loader:\n",
    "        inputs, labels = batch['spectrogram'].to(device), batch['label'].to(device)\n",
    "        # Zero the gradients\n",
    "        optimizer.zero_grad()\n",
    "        # Forward pass\n",
    "        outputs = model(inputs)\n",
    "        # Compute loss\n",
    "        loss = criterion(outputs, labels)\n",
    "        # Backward pass\n",
    "        loss.backward()\n",
    "        # Update parameters\n",
    "        optimizer.step()\n",
    "        # Accumulate the loss\n",
    "        running_loss += loss.item()\n",
    "    \n",
    "    # Compute and log training loss\n",
    "    training_loss = running_loss / len(train_loader)\n",
    "    writer.add_scalar('Loss/train', training_loss, epoch)\n",
    "    \n",
    "    # Set model to evaluation mode and compute validation loss\n",
    "    model.eval()\n",
    "    val_loss = 0.0\n",
    "    with torch.no_grad():\n",
    "        # Loop over batches in the validation dataset\n",
    "        for batch in val_loader:\n",
    "            # Extract inputs and labels from the batch\n",
    "            inputs, labels = batch['spectrogram'].to(device), batch['label'].to(device)\n",
    "            # Forward pass: compute model output\n",
    "            outputs = model(inputs)\n",
    "            # Compute loss\n",
    "            loss = criterion(outputs, labels)\n",
    "            # Accumulate the validation loss over all of the batches\n",
    "            val_loss += loss.item()\n",
    "    \n",
    "    # Logging the validation loss\n",
    "    validation_loss = val_loss / len(val_loader)\n",
    "    writer.add_scalar('Loss/validation', validation_loss, epoch)\n",
    "\n",
    "    # Check if this is the best model so far\n",
    "    if validation_loss < best_val_loss:\n",
    "        best_val_loss = validation_loss\n",
    "        # Save the model\n",
    "        torch.save(model.state_dict(), f\"{paths['models_dir']}/model_fixed_lr/model_best.pth\")\n",
    "\n",
    "    print(f\"Epoch {epoch+1}/{num_epochs}, Training Loss: {training_loss}, Validation Loss: {validation_loss}\")\n",
    "    print(\"-\" * 75)\n",
    "\n",
    "# Closing TensorBoard writer\n",
    "writer.close()"
   ]
  }
 ],
 "metadata": {
  "language_info": {
   "codemirror_mode": {
    "name": "ipython",
    "version": 3
   },
   "file_extension": ".py",
   "mimetype": "text/x-python",
   "name": "python",
   "nbconvert_exporter": "python",
   "pygments_lexer": "ipython3",
   "version": 3
  }
 },
 "nbformat": 4,
 "nbformat_minor": 2
}
