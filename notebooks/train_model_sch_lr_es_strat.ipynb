{
 "cells": [
  {
   "cell_type": "code",
   "execution_count": 1,
   "metadata": {},
   "outputs": [],
   "source": [
    "import torch\n",
    "import torch.nn as nn\n",
    "import torch.optim as optim\n",
    "import torch.nn.functional as F\n",
    "from torch.utils.data import DataLoader, random_split\n",
    "from torch.utils.tensorboard import SummaryWriter\n",
    "from bird_song_dataset import BirdSongDataset, DataPaths, DeviceManager\n",
    "from torchvision.transforms import ToTensor\n",
    "from torch.optim.lr_scheduler import StepLR\n",
    "from sklearn.model_selection import train_test_split\n",
    "from datetime import datetime"
   ]
  },
  {
   "cell_type": "code",
   "execution_count": 2,
   "metadata": {},
   "outputs": [],
   "source": [
    "class SimpleCNN(nn.Module):\n",
    "    \"\"\"\n",
    "    CNN model for image classification\n",
    "\n",
    "    This network consists of two convolutional layers followed by two fully connected layers\n",
    "    The network uses ReLU activation functions for non-linearity and max pooling for down-sampling\n",
    "\n",
    "    Nueral net architecture:\n",
    "        - conv1:\n",
    "            The first convolutional layer holds 16 filters, a kernel size of 3, stride of 1, and padding of 1\n",
    "        - conv2: \n",
    "            The second convolutional layer holds 32 filters, a kernel size of 3, stride of 1, and padding of 1\n",
    "        - fc1:\n",
    "            The first fully connected layer that maps from the flattened output of the last pooling layer to 512 features\n",
    "        - fc2:\n",
    "            The second fully connected layer that maps the 512 features to the number of classes\n",
    "\n",
    "    The forward method defines the data flow through the network, applying layers sequentially with ReLU activation functions and pooling operations\n",
    "    \"\"\"\n",
    "\n",
    "    def __init__(self, num_classes=5):\n",
    "        super(SimpleCNN, self).__init__()\n",
    "        # First convolutional layer with 16 filters\n",
    "        self.conv1 = nn.Conv2d(1, 16, kernel_size=3, stride=1, padding=1)\n",
    "        # Second convolutional layer with 32 filters\n",
    "        self.conv2 = nn.Conv2d(16, 32, kernel_size=3, stride=1, padding=1)\n",
    "        # First fully connected layer, transforming the feature map from convolutional layers into a 512-dimensional vector\n",
    "        self.fc1 = nn.Linear(32768, 512)\n",
    "        # Final fully connected layer that outputs probability distribution across the classes\n",
    "        self.fc2 = nn.Linear(512, num_classes)\n",
    "\n",
    "    def forward(self, x):\n",
    "        # Apply the first convolutional layer followed by ReLU activation and max pooling\n",
    "        x = F.relu(self.conv1(x))\n",
    "        x = F.max_pool2d(x, 2)\n",
    "        # Apply the second convolutional layer followed by ReLU activation and another max pooling\n",
    "        x = F.relu(self.conv2(x))\n",
    "        x = F.max_pool2d(x, 2)\n",
    "        # Flatten the output from the convolutional layers to prepare for the fully connected layer\n",
    "        x = torch.flatten(x, 1)\n",
    "        # Apply the first fully connected layer with ReLU activation\n",
    "        x = F.relu(self.fc1(x))\n",
    "        # Output layer that maps to the number of classes\n",
    "        x = self.fc2(x)\n",
    "        \n",
    "        return x"
   ]
  },
  {
   "cell_type": "code",
   "execution_count": 3,
   "metadata": {},
   "outputs": [
    {
     "name": "stdout",
     "output_type": "stream",
     "text": [
      "dict_keys(['csv_file_path', 'wav_files_dir', 'models_dir', 'results_dir', 'runs_dir'])\n"
     ]
    }
   ],
   "source": [
    "# Get dynamic paths\n",
    "data_paths = DataPaths()\n",
    "paths = data_paths.get_paths()\n",
    "print(paths.keys())"
   ]
  },
  {
   "cell_type": "code",
   "execution_count": 4,
   "metadata": {},
   "outputs": [
    {
     "name": "stdout",
     "output_type": "stream",
     "text": [
      "Dataset size: 5422\n"
     ]
    }
   ],
   "source": [
    "# Instantiate dataset class\n",
    "bird_dataset = BirdSongDataset(csv_file=paths['csv_file_path'], root_dir=paths['wav_files_dir'])\n",
    "print(f\"Dataset size: {len(bird_dataset)}\")"
   ]
  },
  {
   "cell_type": "code",
   "execution_count": 5,
   "metadata": {},
   "outputs": [
    {
     "name": "stdout",
     "output_type": "stream",
     "text": [
      "Data split sizes for train, val, and test: (3795, 813, 814)\n"
     ]
    }
   ],
   "source": [
    "train_size = int(0.7 * len(bird_dataset))\n",
    "val_size = int(0.15 * len(bird_dataset))\n",
    "test_size = len(bird_dataset) - train_size - val_size\n",
    "\n",
    "print(f'Data split sizes for train, val, and test: {train_size, val_size, test_size}')"
   ]
  },
  {
   "cell_type": "code",
   "execution_count": 6,
   "metadata": {},
   "outputs": [
    {
     "data": {
      "text/plain": [
       "array([1, 1, 1, ..., 2, 2, 2])"
      ]
     },
     "execution_count": 6,
     "metadata": {},
     "output_type": "execute_result"
    }
   ],
   "source": [
    "# Get the labels from the dataset for stratification\n",
    "labels = bird_dataset.labels\n",
    "labels"
   ]
  },
  {
   "cell_type": "code",
   "execution_count": 7,
   "metadata": {},
   "outputs": [
    {
     "name": "stdout",
     "output_type": "stream",
     "text": [
      "Using MPS (Apple Silicon GPU)\n",
      "mps\n"
     ]
    }
   ],
   "source": [
    "# Stratified split\n",
    "train_indices, temp_indices, train_strat_labels, temp_strat_labels = \\\n",
    "    train_test_split(range(len(bird_dataset)), labels, stratify=labels, test_size=val_size + test_size, random_state=42)\n",
    "\n",
    "val_indices, test_indices, val_strat_labels, test_strat_labels = \\\n",
    "    train_test_split(temp_indices, temp_strat_labels, stratify=temp_strat_labels, test_size=test_size / (val_size + test_size), random_state=42)\n",
    "\n",
    "# Create DataLoaders for the stratified subsets\n",
    "train_loader = DataLoader(torch.utils.data.Subset(bird_dataset, train_indices), batch_size=64, shuffle=True)\n",
    "val_loader = DataLoader(torch.utils.data.Subset(bird_dataset, val_indices), batch_size=64, shuffle=False)\n",
    "test_loader = DataLoader(torch.utils.data.Subset(bird_dataset, test_indices), batch_size=64, shuffle=False)\n",
    "\n",
    "# Determine accelerator device\n",
    "device_manager = DeviceManager()\n",
    "device = device_manager.device\n",
    "print(device)"
   ]
  },
  {
   "cell_type": "code",
   "execution_count": 8,
   "metadata": {},
   "outputs": [
    {
     "name": "stdout",
     "output_type": "stream",
     "text": [
      "Epoch 1/25, Training Loss: 39.100919245680174, Validation Loss: 0.9216846181796148\n",
      "---------------------------------------------------------------------------\n",
      "Epoch 2/25, Training Loss: 0.72219214985768, Validation Loss: 0.7543656780169561\n",
      "---------------------------------------------------------------------------\n",
      "Epoch 3/25, Training Loss: 0.4131690027813117, Validation Loss: 0.6712680481947385\n",
      "---------------------------------------------------------------------------\n",
      "Epoch 4/25, Training Loss: 0.19353991510967414, Validation Loss: 0.6298494889185979\n",
      "---------------------------------------------------------------------------\n",
      "Epoch 5/25, Training Loss: 0.15486942554513614, Validation Loss: 0.6233967130000775\n",
      "---------------------------------------------------------------------------\n",
      "Epoch 6/25, Training Loss: 0.13023976398011047, Validation Loss: 0.6203022255347326\n",
      "---------------------------------------------------------------------------\n",
      "Epoch 7/25, Training Loss: 0.11128499197463194, Validation Loss: 0.6215839638159826\n",
      "---------------------------------------------------------------------------\n",
      "Epoch 8/25, Training Loss: 0.10903202394644419, Validation Loss: 0.6240699703876789\n",
      "---------------------------------------------------------------------------\n",
      "Early stopping triggered after 9 epochs!\n"
     ]
    }
   ],
   "source": [
    "# Define the model, loss function, optimizer, and learning rate scheduler\n",
    "model = SimpleCNN(num_classes=5).to(device)\n",
    "criterion = nn.CrossEntropyLoss()\n",
    "optimizer = optim.Adam(model.parameters(), lr=0.001)\n",
    "scheduler = StepLR(optimizer, step_size=3, gamma=0.1)\n",
    "\n",
    "# Initialize TensorBoard writer for logging\n",
    "writer = SummaryWriter(f\"{paths['runs_dir']}/bird_song_experiment_with_scheduler_early_stopping_stratified_splits\")\n",
    "\n",
    "# Initialize variables for early stopping mechanism\n",
    "patience = 3\n",
    "best_val_loss = float('inf')\n",
    "epochs_no_improve = 0\n",
    "early_stop = False\n",
    "\n",
    "# Set number of epochs for training\n",
    "num_epochs = 25\n",
    "for epoch in range(num_epochs):\n",
    "    # Set model to training mode and initialize running loss\n",
    "    model.train()\n",
    "    running_loss = 0.0\n",
    "    \n",
    "    # Loop over batches in the training dataset\n",
    "    for batch in train_loader:\n",
    "        inputs, labels = batch['spectrogram'].to(device), batch['label'].to(device)\n",
    "        # Zero the gradients\n",
    "        optimizer.zero_grad()\n",
    "        # Forward pass\n",
    "        outputs = model(inputs)\n",
    "        # Compute loss\n",
    "        loss = criterion(outputs, labels)\n",
    "        # Backward pass\n",
    "        loss.backward()\n",
    "        # Update parameters \n",
    "        optimizer.step()\n",
    "        # Accumulate the loss\n",
    "        running_loss += loss.item()\n",
    "    \n",
    "    # Compute and log training loss\n",
    "    training_loss = running_loss / len(train_loader)\n",
    "    writer.add_scalar('Loss/train', training_loss, epoch)\n",
    "    \n",
    "    # Set model to evaluation mode and compute validation loss\n",
    "    model.eval()\n",
    "    val_loss = 0.0\n",
    "    with torch.no_grad():\n",
    "        # Loop over batches in the validation dataset\n",
    "        for batch in val_loader:\n",
    "            # Extract inputs and labels from the batch\n",
    "            inputs, labels = batch['spectrogram'].to(device), batch['label'].to(device)\n",
    "            # Forward pass: compute model output\n",
    "            outputs = model(inputs)\n",
    "            # Compute loss\n",
    "            loss = criterion(outputs, labels)\n",
    "            # Accumulate the validation loss over all of the batches\n",
    "            val_loss += loss.item()\n",
    "    \n",
    "    # Logging the validation loss\n",
    "    validation_loss = val_loss / len(val_loader)\n",
    "    writer.add_scalar('Loss/validation', validation_loss, epoch)\n",
    "    \n",
    "    # Check for early stopping\n",
    "    if validation_loss < best_val_loss:\n",
    "        best_val_loss = validation_loss\n",
    "        epochs_no_improve = 0\n",
    "\n",
    "        # Format the current date and time as a string\n",
    "        timestamp = datetime.now().strftime('%Y-%m-%d_%H-%M-%S')\n",
    "\n",
    "        # Save the model with the timestamp in the filename\n",
    "        torch.save(model.state_dict(), f\"{paths['models_dir']}/model_sch_lr_es_start_{timestamp}.pth\")\n",
    "\n",
    "    else:\n",
    "        epochs_no_improve += 1\n",
    "        if epochs_no_improve >= patience:\n",
    "            print(f'Early stopping triggered after {epoch + 1} epochs!')\n",
    "            early_stop = True\n",
    "            break\n",
    "    \n",
    "    # Step the scheduler for learning rate adjustment\n",
    "    scheduler.step()\n",
    "    \n",
    "    # Log training progress and learning rate\n",
    "    current_lr = scheduler.get_last_lr()[0]\n",
    "    writer.add_scalar('Learning Rate', current_lr, epoch)\n",
    "    print(f\"Epoch {epoch+1}/{num_epochs}, Training Loss: {training_loss}, Validation Loss: {validation_loss}\")\n",
    "    print(\"-\" * 75)\n",
    "\n",
    "# Check if training stopped early and close TensorBoard writer\n",
    "if not early_stop:\n",
    "    print(f\"Training completed after {num_epochs} epochs.\")\n",
    "writer.close()"
   ]
  }
 ],
 "metadata": {
  "language_info": {
   "codemirror_mode": {
    "name": "ipython",
    "version": 3
   },
   "file_extension": ".py",
   "mimetype": "text/x-python",
   "name": "python",
   "nbconvert_exporter": "python",
   "pygments_lexer": "ipython3",
   "version": 3
  }
 },
 "nbformat": 4,
 "nbformat_minor": 2
}
